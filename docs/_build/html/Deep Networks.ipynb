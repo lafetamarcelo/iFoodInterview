{
 "cells": [
  {
   "cell_type": "markdown",
   "metadata": {},
   "source": [
    "# Deep Networks\n",
    "\n",
    "Here we will build the classifier using some deep networks with the `tersorflow` and `keras` library. Even though we do not have samples enough for this type of technique to be necessary, it is interesting to test how it will behavior, since usually it is pretty powerfull when there is a lot of samples. \n",
    "\n",
    "\n",
    "## Reading the data"
   ]
  },
  {
   "cell_type": "code",
   "execution_count": 1,
   "metadata": {},
   "outputs": [],
   "source": [
    "\n",
    "import pandas as pd\n",
    "\n",
    "data_path = './ifood-data-business-analyst-test/ml_project1_data.csv'\n",
    "dataset = pd.read_csv(data_path)\n"
   ]
  },
  {
   "cell_type": "markdown",
   "metadata": {},
   "source": [
    "## Preprocessing \n",
    "\n",
    "> Realise that this preprocessing is very close to the one presented before with in the XGBoost technique, therefore, if one wants to jump this part to the model part, please go for it.\n",
    "\n",
    "Here we need to provide a simple preprocess to the data to remove possible non informative data, to create information fields that are more suitable for interpretation, some encoding of the features (since some are categorical), also we will make some normalization on the data to avoid over weighting errors and so on... \n",
    "\n",
    "> Notice that most functions to do the preprocessing here are implemented in a separated code, since it could be used for other models, and for later analysis."
   ]
  },
  {
   "cell_type": "code",
   "execution_count": 2,
   "metadata": {},
   "outputs": [],
   "source": [
    "from utils import *"
   ]
  },
  {
   "cell_type": "markdown",
   "metadata": {},
   "source": [
    "### Pipeline\n",
    "\n",
    "The preprocessing pipeline, for the XGBoost classification algorithm will be the one, as follows:\n",
    "\n",
    "- `Step #1` First we will replace some fields with more interpretable information (Birth date => Age, Customer Registration => Persistence, ...)\n",
    "\n",
    "- `Step #2` Then we are going to replace the categorical data set with an encoded one (categorical variables => numerical variables)\n",
    "\n",
    "- `Step #3` Then some non informative features will be dropped from the analysis, _e.g._ features that are constant in all samples (which does not provide any information)\n",
    "\n",
    "- `Step #4` Since we have only 24 samples with NaN (or null) values, we can drop those from the dataset, instead of concerning with interpolation and so on..."
   ]
  },
  {
   "cell_type": "code",
   "execution_count": 3,
   "metadata": {},
   "outputs": [
    {
     "name": "stdout",
     "output_type": "stream",
     "text": [
      "Features dropped: ['Z_CostContact', 'Z_Revenue']\n"
     ]
    }
   ],
   "source": [
    "\n",
    "dataset = support.replaceFields(dataset)                # Step #1\n",
    "\n",
    "dataset, encoders = support.encodeDataSet(dataset)      # Step #2\n",
    "\n",
    "dataset = support.dropNonInformative(dataset)           # Step #3\n",
    "\n",
    "df = dataset.dropna()                                   # Step #4\n"
   ]
  },
  {
   "cell_type": "markdown",
   "metadata": {},
   "source": [
    "Here we have some particular processing of the data for this particular Deep Network classifier algorithm. Notice that differently from the XGBoost approach, here the data is balanced by weighting the error importance of each sample. As described in the XGBoost section, the randomized approach is best suited for algorithms that does not use derivative search to optimize the model parameters, and Deep Networks use the classical deep learning technique to determine its parameters, which is a derivative based one. Therefore, the weighting technique based on the data proportions is feasible for this approach.\n",
    "\n",
    "In summary, we will first build the regression problem as something close to the structure:\n",
    "\n",
    "$$y(k) = f(\\phi(k), \\theta)$$\n",
    "\n",
    "After we can normalize the data, by just making it fit the the group $[0, 1]$. Then, the regression format is created, using all the dataset. After the data will be divided into train and test groups, to then be defined the weighting of each sample error."
   ]
  },
  {
   "cell_type": "code",
   "execution_count": 4,
   "metadata": {},
   "outputs": [],
   "source": [
    "\n",
    "import numpy as np\n",
    "\n",
    "# Regression format\n",
    "phi = df.loc[:, ~df.columns.isin(['Response', 'ID'])].to_numpy()\n",
    "target = df[\"Response\"].to_numpy()\n",
    "\n",
    "# Normalization\n",
    "max_vals = np.amax(phi, axis=0)\n",
    "min_vals = np.amin(phi, axis=0)\n",
    "phi_n = (phi - max_vals) / (max_vals - min_vals)\n",
    "\n",
    "X, y = phi_n, target \n"
   ]
  },
  {
   "cell_type": "markdown",
   "metadata": {},
   "source": [
    "### Train and Test data\n",
    "\n",
    "Here we simply use the data to build the train and test sets:"
   ]
  },
  {
   "cell_type": "code",
   "execution_count": 5,
   "metadata": {},
   "outputs": [
    {
     "data": {
      "text/plain": [
       "(0.0007961783439490446, 0.0043859649122807015)"
      ]
     },
     "execution_count": 5,
     "metadata": {},
     "output_type": "execute_result"
    }
   ],
   "source": [
    "\n",
    "from sklearn.model_selection import train_test_split\n",
    "\n",
    "X_train, X_test, y_train, y_test = train_test_split(X, y, test_size=0.33, random_state=42, shuffle=True)\n",
    "\n",
    "# Weight of each sample\n",
    "counts = np.bincount(y_train)\n",
    "weight_for_0 = 1.0 / counts[0]\n",
    "weight_for_1 = 1.0 / counts[1]\n",
    "\n",
    "weight_for_0, weight_for_1\n"
   ]
  },
  {
   "cell_type": "markdown",
   "metadata": {},
   "source": [
    "## Train model\n",
    "\n",
    "Since the deep network model have soo many variables that could be defined as hyper parameters, usually for practical usage, it is enough to build a slightly complex model capable of generating good results by using handly tests, and from then refine its parameters. This usually it best, considering that this parameters are not only a lot of variables, but they also interfere the non-linearlly on the cost function creating several complex search surfaces, leading to several local minimuns... \n",
    "\n",
    "> _I know that for the XGBoost algorithm I built a global minimun searcher using annealing, but notice that it only searches for 3 parameters, here we are talking about something close to hundreds... So forgive for handly building a complex model. Hehe_ \n",
    "\n",
    "So here we are creating a descented deep network that has some dropouts to enhance consistency: "
   ]
  },
  {
   "cell_type": "code",
   "execution_count": 6,
   "metadata": {},
   "outputs": [
    {
     "name": "stdout",
     "output_type": "stream",
     "text": [
      "Model: \"sequential\"\n",
      "_________________________________________________________________\n",
      "Layer (type)                 Output Shape              Param #   \n",
      "=================================================================\n",
      "dense (Dense)                (None, 256)               6656      \n",
      "_________________________________________________________________\n",
      "dense_1 (Dense)              (None, 256)               65792     \n",
      "_________________________________________________________________\n",
      "dropout (Dropout)            (None, 256)               0         \n",
      "_________________________________________________________________\n",
      "dense_2 (Dense)              (None, 256)               65792     \n",
      "_________________________________________________________________\n",
      "dropout_1 (Dropout)          (None, 256)               0         \n",
      "_________________________________________________________________\n",
      "dense_3 (Dense)              (None, 256)               65792     \n",
      "_________________________________________________________________\n",
      "dropout_2 (Dropout)          (None, 256)               0         \n",
      "_________________________________________________________________\n",
      "dense_4 (Dense)              (None, 1)                 257       \n",
      "=================================================================\n",
      "Total params: 204,289\n",
      "Trainable params: 204,289\n",
      "Non-trainable params: 0\n",
      "_________________________________________________________________\n"
     ]
    }
   ],
   "source": [
    "\n",
    "import tensorflow as tf\n",
    "from tensorflow import keras\n",
    "from tensorflow.keras import layers\n",
    "\n",
    "model = keras.Sequential(\n",
    "    [\n",
    "        keras.layers.Dense(\n",
    "            256, activation=\"relu\", input_shape=(X_train.shape[-1],)\n",
    "        ),\n",
    "        keras.layers.Dense(256, activation=\"relu\"),\n",
    "        keras.layers.Dropout(0.3),\n",
    "        keras.layers.Dense(256, activation=\"relu\"),\n",
    "        keras.layers.Dropout(0.3),\n",
    "        keras.layers.Dense(256, activation=\"relu\"),\n",
    "        keras.layers.Dropout(0.3),\n",
    "        keras.layers.Dense(1, activation=\"sigmoid\"),\n",
    "    ]\n",
    ")\n",
    "model.summary()\n"
   ]
  },
  {
   "cell_type": "code",
   "execution_count": 7,
   "metadata": {
    "scrolled": true
   },
   "outputs": [
    {
     "name": "stdout",
     "output_type": "stream",
     "text": [
      "WARNING:tensorflow:sample_weight modes were coerced from\n",
      "  ...\n",
      "    to  \n",
      "  ['...']\n",
      "WARNING:tensorflow:sample_weight modes were coerced from\n",
      "  ...\n",
      "    to  \n",
      "  ['...']\n"
     ]
    },
    {
     "data": {
      "text/plain": [
       "<tensorflow.python.keras.callbacks.History at 0x1a30a07d90>"
      ]
     },
     "execution_count": 7,
     "metadata": {},
     "output_type": "execute_result"
    }
   ],
   "source": [
    "\n",
    "metrics = [\n",
    "    keras.metrics.FalseNegatives(name=\"fn\"),\n",
    "    keras.metrics.FalsePositives(name=\"fp\"),\n",
    "    keras.metrics.TrueNegatives(name=\"tn\"),\n",
    "    keras.metrics.TruePositives(name=\"tp\"),\n",
    "    keras.metrics.Precision(name=\"precision\"),\n",
    "    keras.metrics.Recall(name=\"recall\"),\n",
    "]\n",
    "\n",
    "model.compile(\n",
    "    optimizer=keras.optimizers.Adam(1e-2), loss=\"binary_crossentropy\", metrics=metrics\n",
    ")\n",
    "\n",
    "callbacks = [keras.callbacks.ModelCheckpoint(\"model_at_epoch_{epoch}.h5\")]\n",
    "class_weight = {0: weight_for_0, 1: weight_for_1}\n",
    "\n",
    "model.fit(\n",
    "    X_train, y_train,\n",
    "    batch_size=300,\n",
    "    epochs=200,\n",
    "    verbose=0,\n",
    "    callbacks=callbacks,\n",
    "    validation_data=(X_test, y_test),\n",
    "    class_weight=class_weight)\n"
   ]
  },
  {
   "cell_type": "markdown",
   "metadata": {},
   "source": [
    "## Model Results\n",
    "\n",
    "Then here we can build some visualizations to show the results. The first one is the fitting with the testing data, using the confusion matrix to make sure the model is consistent. \n"
   ]
  },
  {
   "cell_type": "code",
   "execution_count": 8,
   "metadata": {},
   "outputs": [],
   "source": [
    "\n",
    "from sklearn.metrics import confusion_matrix\n",
    "\n",
    "# Predict the testing output\n",
    "y_pred = model.predict_classes(X_test)\n",
    "# Compute the confusion matrix using test data\n",
    "conf_mat = confusion_matrix(y_test, y_pred, normalize='true')\n"
   ]
  },
  {
   "cell_type": "code",
   "execution_count": 9,
   "metadata": {},
   "outputs": [
    {
     "data": {
      "text/plain": [
       "<matplotlib.axes._subplots.AxesSubplot at 0x1a3187ded0>"
      ]
     },
     "execution_count": 9,
     "metadata": {},
     "output_type": "execute_result"
    },
    {
     "data": {
      "image/png": "[encoded data removed]",
      "text/plain": [
       "<Figure size 720x432 with 2 Axes>"
      ]
     },
     "metadata": {
      "needs_background": "light"
     },
     "output_type": "display_data"
    }
   ],
   "source": [
    "\n",
    "import seaborn as sns\n",
    "import matplotlib.pyplot as plt\n",
    "\n",
    "# Build the data for plot\n",
    "index = ['False','True']  \n",
    "cm_df = pd.DataFrame(conf_mat,index,index)                      \n",
    "\n",
    "# Plot the confusion matrix\n",
    "plt.figure(figsize=(10,6))  \n",
    "sns.heatmap(cm_df, annot=True)\n"
   ]
  },
  {
   "cell_type": "markdown",
   "metadata": {},
   "source": [
    "Here we can show the classification performance of the unbalaced dataset, using all samples, to be sure that the model maintain its consistency."
   ]
  },
  {
   "cell_type": "code",
   "execution_count": 10,
   "metadata": {},
   "outputs": [
    {
     "data": {
      "text/plain": [
       "<matplotlib.axes._subplots.AxesSubplot at 0x1a34515050>"
      ]
     },
     "execution_count": 10,
     "metadata": {},
     "output_type": "execute_result"
    },
    {
     "data": {
      "image/png": "[encoded data removed]",
      "text/plain": [
       "<Figure size 720x432 with 2 Axes>"
      ]
     },
     "metadata": {
      "needs_background": "light"
     },
     "output_type": "display_data"
    }
   ],
   "source": [
    "\n",
    "# Predict the testing output\n",
    "y_pred = model.predict_classes(phi_n)\n",
    "# Compute the confusion matrix using test data\n",
    "conf_mat = confusion_matrix(target, y_pred, normalize='true')\n",
    "\n",
    "# Build the data for plot\n",
    "cm_df = pd.DataFrame(conf_mat,index,index)                      \n",
    "\n",
    "# Plot the confusion matrix\n",
    "plt.figure(figsize=(10,6))  \n",
    "sns.heatmap(cm_df, annot=True)\n"
   ]
  }
 ],
 "metadata": {
  "kernelspec": {
   "display_name": "Python 3",
   "language": "python",
   "name": "python3"
  },
  "language_info": {
   "codemirror_mode": {
    "name": "ipython",
    "version": 3
   },
   "file_extension": ".py",
   "mimetype": "text/x-python",
   "name": "python",
   "nbconvert_exporter": "python",
   "pygments_lexer": "ipython3",
   "version": "3.7.4"
  }
 },
 "nbformat": 4,
 "nbformat_minor": 4
}
