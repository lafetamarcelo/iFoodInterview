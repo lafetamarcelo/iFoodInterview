{
 "cells": [
  {
   "cell_type": "markdown",
   "metadata": {},
   "source": [
    "# Support Vector Machine\n",
    "\n",
    "In this section a support vector machine algorithm will be developed to predict the costumer data more probable to comply in the next campaing. This algorithm is pretty interesting considering that it is capable of building the analytical solution for the best classifier, considering the provided dataset. Unfortunatly this approach I will use the `sklearn` library which does not provide a analytical solution of the support vector machines, instead it uses some iterative technique to determine the best model parameters, and this brings the model close of what it would be if it were analitically solved. But even though it usually get some interesting results. Therefore, here is the implementation:\n",
    "\n",
    "## Reading the DataSet"
   ]
  },
  {
   "cell_type": "code",
   "execution_count": 1,
   "metadata": {},
   "outputs": [],
   "source": [
    "\n",
    "import pandas as pd\n",
    "\n",
    "data_path = './ifood-data-business-analyst-test/ml_project1_data.csv'\n",
    "dataset = pd.read_csv(data_path)\n"
   ]
  },
  {
   "cell_type": "markdown",
   "metadata": {},
   "source": [
    "## Preprocessing \n",
    "\n",
    "> Realise that this preprocessing is very close to the one presented before with in the XGBoost technique, therefore, if one wants to jump this part to the model part, please go for it.\n",
    "\n",
    "Here we need to provide a simple preprocess to the data to remove possible non informative data, to create information fields that are more suitable for interpretation, some encoding of the features (since some are categorical), also we will make some normalization on the data to avoid over weighting errors and so on... \n",
    "\n",
    "> Notice that most functions to do the preprocessing here are implemented in a separated code, since it could be used for other models, and for later analysis."
   ]
  },
  {
   "cell_type": "code",
   "execution_count": 2,
   "metadata": {},
   "outputs": [],
   "source": [
    "from utils import *"
   ]
  },
  {
   "cell_type": "markdown",
   "metadata": {},
   "source": [
    "### Pipeline\n",
    "\n",
    "The preprocessing pipeline, for the XGBoost classification algorithm will be the one, as follows:\n",
    "\n",
    "- `Step #1` First we will replace some fields with more interpretable information (Birth date => Age, Customer Registration => Persistence, ...)\n",
    "\n",
    "- `Step #2` Then we are going to replace the categorical data set with an encoded one (categorical variables => numerical variables)\n",
    "\n",
    "- `Step #3` Then some non informative features will be dropped from the analysis, _e.g._ features that are constant in all samples (which does not provide any information)\n",
    "\n",
    "- `Step #4` Since we have only 24 samples with NaN (or null) values, we can drop those from the dataset, instead of concerning with interpolation and so on..."
   ]
  },
  {
   "cell_type": "code",
   "execution_count": 3,
   "metadata": {},
   "outputs": [
    {
     "name": "stdout",
     "output_type": "stream",
     "text": [
      "Features dropped: ['Z_CostContact', 'Z_Revenue']\n"
     ]
    }
   ],
   "source": [
    "\n",
    "dataset = support.replaceFields(dataset)                # Step #1\n",
    "\n",
    "dataset, encoders = support.encodeDataSet(dataset)      # Step #2\n",
    "\n",
    "dataset = support.dropNonInformative(dataset)           # Step #3\n",
    "\n",
    "df = dataset.dropna()                           # Step #4\n"
   ]
  },
  {
   "cell_type": "markdown",
   "metadata": {},
   "source": [
    "Here we have some particular processing of the data for this particular Support Vector Machines model. Even though this model has analytical solution, it also uses an stochastic searcher to find its best parameters... The same way that the XGBoost algorithm. Thence, both the normalization and the data balancing will be done the same way that in the XGBoost algorithm. If one wants to understand why we use those here, please check out the XGBoost section.\n",
    "\n",
    "In summary, we will first build the regression problem as something close to the structure:\n",
    "\n",
    "$$y(k) = f(\\phi(k), \\theta)$$\n",
    "\n",
    "After we can normalize the data, by just making it fit the the group $[0, 1]$. After the normalization we do some data balancing, the same way as discussed in the XGBoost section."
   ]
  },
  {
   "cell_type": "code",
   "execution_count": 4,
   "metadata": {},
   "outputs": [],
   "source": [
    "\n",
    "import numpy as np\n",
    "\n",
    "# Create the regression format\n",
    "phi = df.loc[:, ~df.columns.isin(['Response', 'ID'])].to_numpy()\n",
    "target = df[\"Response\"].to_numpy()\n",
    "\n",
    "# Normalization\n",
    "max_vals = np.amax(phi, axis=0)\n",
    "min_vals = np.amin(phi, axis=0)\n",
    "phi_n = (phi - max_vals) / (max_vals - min_vals)\n",
    "\n",
    "# Balancing the data\n",
    "X, y = support.balanceDataSet(phi_n, target)\n"
   ]
  },
  {
   "cell_type": "markdown",
   "metadata": {},
   "source": [
    "### Train and Test data\n",
    "\n",
    "Here we simply use the data to build the train and test sets:"
   ]
  },
  {
   "cell_type": "code",
   "execution_count": 5,
   "metadata": {},
   "outputs": [],
   "source": [
    "\n",
    "from sklearn.model_selection import train_test_split\n",
    "\n",
    "X_train, X_test, y_train, y_test = train_test_split(X, y, test_size=0.33, random_state=42, shuffle=True)\n"
   ]
  },
  {
   "cell_type": "markdown",
   "metadata": {},
   "source": [
    "## Train model\n",
    "\n",
    "Here we create and train the model using the soo called Support Vector Machine (_secret: my secret love!! Hehe_). This algorithm is pretty interesting because if mess around with its math, it can became any one that you want... It has math flexibility to became a decision tree, or a deep network... Any model at all!! If one wants to understand the math behind it I advice to check out one of my papers at the [iFac Internation Congress](https://www.sciencedirect.com/science/article/pii/S2405896318328271?via%3Dihub) or my book chapter where I discuss even better [IET Digital Library](https://digital-library.theiet.org/content/books/10.1049/pbce123e_ch3;jsessionid=ji7b4180pudn.x-iet-live-01). \n",
    "\n",
    "This algorithm is pretty good, but when it is solved analitically! Therefore, this algorithm always will find the best classifier for the dataset, provided its hyper parameters, when it is solved analitically. Unfortunatelly, the libraries that provide a simple API to access this model, usually use some stochastic searcher and usually find the model by computational iterations, which limits the algorithm on its solution... If one desires I can provide a math explanation later Haha. But it is enoguh to know that the parameter `max_iter` is responsible to control how much iterations the model is allow to try to go as close as it can to the analitical solution.\n",
    "\n",
    "The analical solution usually depend on the solution of the following Lagrangian equation:\n",
    "\n",
    "$$L(E,\\theta, \\lambda) = \\frac{1}{2} \\theta^\\top \\theta + \\frac{\\gamma}{2}E^\\top E - \\lambda^\\top \\left(E - Y + \\Phi \\theta \\right)$$\n",
    "\n",
    "Which is actually the following:\n",
    "\n",
    "$$\\lambda = \\left(\\frac{I_{(n_x)}}{\\gamma} + \\Phi \\Phi^\\top \\right)^{-1} Y$$\n",
    "\n",
    "Note that the reason that the analytical solution is not used by those libraries, is related to the inverse of the $\\Phi$ which does not always exists... it actually depends on the amount of noise on the input data (features). Therefore, we must satisfy ourselfs with the computational solution provided by the sklearn library, for example.\n",
    "\n",
    "Here we use a grid search technique to find the best hyper parameters for the model the `C` and `gamma` (respectivally the `C` is actually the $\\gamma$ in the above equations, mathematicians actually prefere that `C`=$\\gamma$ and `gamma`=$\\sigma$)."
   ]
  },
  {
   "cell_type": "code",
   "execution_count": 6,
   "metadata": {},
   "outputs": [],
   "source": [
    "\n",
    "import warnings\n",
    "warnings.filterwarnings('ignore')\n",
    "\n",
    "from sklearn.model_selection import GridSearchCV\n",
    "from sklearn.svm import SVC\n",
    "\n",
    "# Create the hyper parameter candidates\n",
    "candidates = dict(C = np.logspace(-3, 4, 40),\n",
    "                  gamma = np.logspace(-7, 2, 40))\n",
    "\n",
    "# Build the model\n",
    "model = SVC(max_iter=200)\n",
    "\n",
    "# Build the grid search on the candidates\n",
    "clf = GridSearchCV(model, candidates)\n",
    "# Train the model considering the candidates\n",
    "search = clf.fit(X_train, y_train)\n",
    "\n",
    "# Select the best model\n",
    "model = search.best_estimator_\n"
   ]
  },
  {
   "cell_type": "code",
   "execution_count": 7,
   "metadata": {},
   "outputs": [
    {
     "data": {
      "text/plain": [
       "{'C': 1266.380173467402, 'gamma': 0.0014251026703029992}"
      ]
     },
     "execution_count": 7,
     "metadata": {},
     "output_type": "execute_result"
    }
   ],
   "source": [
    "search.best_params_"
   ]
  },
  {
   "cell_type": "markdown",
   "metadata": {},
   "source": [
    "Here we also present a version unsing the annealing algorithm presented in the on the XGBoost section. To show that both algorithms are good enough to determine the paramters, once that the grid search has a high resolution grid. I don't need to show, but the annealing version is better then the grid search one, since it find the global minimun, therefore the set of hyper parameters that makes this model more close to the best classifier. While the grid search will just provide the best one of the candidates of the grid."
   ]
  },
  {
   "cell_type": "code",
   "execution_count": 8,
   "metadata": {},
   "outputs": [
    {
     "data": {
      "text/plain": [
       "SVC(C=14386.055129815519, break_ties=False, cache_size=200, class_weight=None,\n",
       "    coef0=0.0, decision_function_shape='ovr', degree=3, gamma=3.275594178351446,\n",
       "    kernel='rbf', max_iter=2000, probability=False, random_state=None,\n",
       "    shrinking=True, tol=0.001, verbose=False)"
      ]
     },
     "execution_count": 8,
     "metadata": {},
     "output_type": "execute_result"
    }
   ],
   "source": [
    "\n",
    "# Create the parameters bounds\n",
    "lower, upper = [1e-07, 1e-07], [1e5, 1e3]\n",
    "bounds = zip(lower, upper)\n",
    "\n",
    "# Run the annealing search to determine the hyper parameters\n",
    "pars, res = support.svmHyperGridSearch(bounds, (y_train, X_train, y_test, X_test))\n",
    "\n",
    "# Build and train the model with the best parameters\n",
    "model = SVC(C=pars[0], gamma=pars[1], max_iter=2000)\n",
    "model.fit(X_train, y_train)\n"
   ]
  },
  {
   "cell_type": "markdown",
   "metadata": {},
   "source": [
    "## Model Results\n",
    "\n",
    "Then here we can build some visualizations to show the results. The first one is the fitting with the testing data, using the confusion matrix to make sure the model is consistent. \n",
    "\n",
    "> Remember that this data set is balanced, and therefore is a more honnest result, then the second one that will be shown."
   ]
  },
  {
   "cell_type": "code",
   "execution_count": 9,
   "metadata": {},
   "outputs": [
    {
     "data": {
      "text/plain": [
       "<matplotlib.axes._subplots.AxesSubplot at 0x1a203f64d0>"
      ]
     },
     "execution_count": 9,
     "metadata": {},
     "output_type": "execute_result"
    },
    {
     "data": {
      "image/png": "[encoded data removed]",
      "text/plain": [
       "<Figure size 720x432 with 2 Axes>"
      ]
     },
     "metadata": {
      "needs_background": "light"
     },
     "output_type": "display_data"
    }
   ],
   "source": [
    "\n",
    "from sklearn.metrics import confusion_matrix\n",
    "import matplotlib.pyplot as plt\n",
    "import seaborn as sns\n",
    "\n",
    "y_pred = model.predict(X_test)\n",
    "conf_mat = confusion_matrix(y_test, y_pred, normalize='true')\n",
    "\n",
    "index = ['False','True']  \n",
    "cm_df = pd.DataFrame(conf_mat,index,index)                      \n",
    "\n",
    "plt.figure(figsize=(10,6))  \n",
    "sns.heatmap(cm_df, annot=True)\n"
   ]
  },
  {
   "cell_type": "markdown",
   "metadata": {},
   "source": [
    "Here we can show the classification performance of the unbalaced dataset, using all samples, to be sure that the model maintain its consistency."
   ]
  },
  {
   "cell_type": "code",
   "execution_count": 10,
   "metadata": {},
   "outputs": [
    {
     "data": {
      "text/plain": [
       "<matplotlib.axes._subplots.AxesSubplot at 0x1a16877b50>"
      ]
     },
     "execution_count": 10,
     "metadata": {},
     "output_type": "execute_result"
    },
    {
     "data": {
      "image/png": "[encoded data removed]",
      "text/plain": [
       "<Figure size 720x432 with 2 Axes>"
      ]
     },
     "metadata": {
      "needs_background": "light"
     },
     "output_type": "display_data"
    }
   ],
   "source": [
    "\n",
    "y_pred = model.predict(phi_n)\n",
    "conf_mat = confusion_matrix(target, y_pred, normalize='true')\n",
    "\n",
    "index = ['False','True']  \n",
    "cm_df = pd.DataFrame(conf_mat,index,index)                      \n",
    "\n",
    "plt.figure(figsize=(10,6))  \n",
    "sns.heatmap(cm_df, annot=True)\n"
   ]
  }
 ],
 "metadata": {
  "kernelspec": {
   "display_name": "Python 3",
   "language": "python",
   "name": "python3"
  },
  "language_info": {
   "codemirror_mode": {
    "name": "ipython",
    "version": 3
   },
   "file_extension": ".py",
   "mimetype": "text/x-python",
   "name": "python",
   "nbconvert_exporter": "python",
   "pygments_lexer": "ipython3",
   "version": "3.7.4"
  }
 },
 "nbformat": 4,
 "nbformat_minor": 4
}
